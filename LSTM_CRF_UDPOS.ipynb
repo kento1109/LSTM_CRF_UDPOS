{
 "cells": [
  {
   "cell_type": "code",
   "execution_count": 1,
   "metadata": {},
   "outputs": [
    {
     "name": "stdout",
     "output_type": "stream",
     "text": [
      "{'word': ['Al', '-', 'Zaman', ':', 'American', 'forces', 'killed', 'Shaikh', 'Abdullah', 'al', '-', 'Ani', ',', 'the', 'preacher', 'at', 'the', 'mosque', 'in', 'the', 'town', 'of', 'Qaim', ',', 'near', 'the', 'Syrian', 'border', '.'], 'udtag': ['PROPN', 'PUNCT', 'PROPN', 'PUNCT', 'ADJ', 'NOUN', 'VERB', 'PROPN', 'PROPN', 'PROPN', 'PUNCT', 'PROPN', 'PUNCT', 'DET', 'NOUN', 'ADP', 'DET', 'NOUN', 'ADP', 'DET', 'NOUN', 'ADP', 'PROPN', 'PUNCT', 'ADP', 'DET', 'ADJ', 'NOUN', 'PUNCT']}\n"
     ]
    }
   ],
   "source": [
    "from torchtext import data, datasets\n",
    "\n",
    "# Define the fields associated with the sequences.\n",
    "WORD = data.Field()\n",
    "UD_TAG = data.Field()\n",
    "\n",
    "# Download and the load default data.\n",
    "train, val, test = datasets.UDPOS.splits(\n",
    "    fields=(('word', WORD), ('udtag', UD_TAG), (None, None)))\n",
    "\n",
    "print(vars(train[0]))"
   ]
  },
  {
   "cell_type": "code",
   "execution_count": 2,
   "metadata": {},
   "outputs": [],
   "source": [
    "# build vocaburary\n",
    "WORD.build_vocab(train)\n",
    "UD_TAG.build_vocab(train)\n",
    "\n",
    "word_vocab = WORD.vocab\n",
    "tag_vocab = UD_TAG.vocab"
   ]
  },
  {
   "cell_type": "code",
   "execution_count": 3,
   "metadata": {},
   "outputs": [],
   "source": [
    "BATCH_SIZE = 64\n",
    "train_iter, val_iter, test_iter = data.BucketIterator.splits((train, val, test), \n",
    "                                                  batch_size=BATCH_SIZE,\n",
    "                                                  sort_key=lambda x: len(x.word),\n",
    "                                                  shuffle=True,\n",
    "                                                  repeat=False,\n",
    "                                                  device=\"cuda:0\")"
   ]
  },
  {
   "cell_type": "code",
   "execution_count": 5,
   "metadata": {},
   "outputs": [],
   "source": [
    "from model import BiLSTM_CRF"
   ]
  },
  {
   "cell_type": "code",
   "execution_count": 6,
   "metadata": {},
   "outputs": [
    {
     "data": {
      "text/plain": [
       "<torch._C.Generator at 0x7f169ce0ad30>"
      ]
     },
     "execution_count": 6,
     "metadata": {},
     "output_type": "execute_result"
    }
   ],
   "source": [
    "import torch\n",
    "import torch.nn as nn\n",
    "import torch.nn.functional as F\n",
    "import torch.optim as optim\n",
    "import matplotlib.pyplot as plt\n",
    "import time\n",
    "import random\n",
    "import csv\n",
    "import copy\n",
    "import numpy as np\n",
    "torch.manual_seed(1)"
   ]
  },
  {
   "cell_type": "code",
   "execution_count": 7,
   "metadata": {},
   "outputs": [],
   "source": [
    "CUDA = True if torch.cuda.is_available() else False"
   ]
  },
  {
   "cell_type": "code",
   "execution_count": 17,
   "metadata": {},
   "outputs": [],
   "source": [
    "EMBEDDING_DIM = 100\n",
    "HIDDEN_DIM = 128\n",
    "\n",
    "bilstm_crf = BiLSTM_CRF(len(word_vocab.stoi), tag_vocab.stoi, EMBEDDING_DIM, HIDDEN_DIM, BATCH_SIZE)\n",
    "if CUDA: \n",
    "    bilstm_crf=bilstm_crf.cuda()\n",
    "\n",
    "optimizer = optim.RMSprop(bilstm_crf.parameters())"
   ]
  },
  {
   "cell_type": "code",
   "execution_count": 18,
   "metadata": {},
   "outputs": [
    {
     "name": "stdout",
     "output_type": "stream",
     "text": [
      "BiLSTM_CRF(\n",
      "  (word_embeds): Embedding(19676, 100, padding_idx=1)\n",
      "  (lstm): LSTM(100, 64, bidirectional=True)\n",
      "  (emissons): Linear(in_features=128, out_features=21, bias=True)\n",
      "  (crf): CRF(num_tags=21)\n",
      ")\n"
     ]
    }
   ],
   "source": [
    "print(bilstm_crf)"
   ]
  },
  {
   "cell_type": "code",
   "execution_count": 19,
   "metadata": {},
   "outputs": [
    {
     "data": {
      "text/plain": [
       "tensor(3716.0413, device='cuda:0', grad_fn=<NegBackward>)"
      ]
     },
     "execution_count": 19,
     "metadata": {},
     "output_type": "execute_result"
    }
   ],
   "source": [
    "batch = next(iter(train_iter))\n",
    "bilstm_crf(batch.word, batch.udtag)"
   ]
  },
  {
   "cell_type": "code",
   "execution_count": 20,
   "metadata": {},
   "outputs": [],
   "source": [
    "def train(model, sents, labels):\n",
    "    model.train()\n",
    "    optimizer.zero_grad()\n",
    "    loss = model(sents, labels)\n",
    "    loss.backward()\n",
    "    optimizer.step()\n",
    "    return loss.item() / sents.size(1)\n",
    "\n",
    "def test(model, sents, labels):\n",
    "    model.eval()\n",
    "    with torch.no_grad():\n",
    "        loss = model(sents, labels)\n",
    "    return loss.item() / sents.size(1)"
   ]
  },
  {
   "cell_type": "code",
   "execution_count": 22,
   "metadata": {},
   "outputs": [
    {
     "name": "stdout",
     "output_type": "stream",
     "text": [
      "epoch 0 / 20\n",
      "train loss:6.89156, valid loss:2.78977\n",
      "epoch 1 / 20\n",
      "train loss:2.36055, valid loss:0.55015\n",
      "epoch 2 / 20\n",
      "train loss:1.20889, valid loss:0.22919\n",
      "epoch 3 / 20\n",
      "train loss:0.73698, valid loss:0.11103\n",
      "epoch 4 / 20\n",
      "train loss:0.51186, valid loss:0.06294\n",
      "epoch 5 / 20\n",
      "train loss:0.36597, valid loss:0.04162\n",
      "epoch 6 / 20\n",
      "train loss:0.28647, valid loss:0.03127\n",
      "epoch 7 / 20\n",
      "train loss:0.25647, valid loss:0.02356\n",
      "epoch 8 / 20\n",
      "train loss:0.22680, valid loss:0.02121\n",
      "epoch 9 / 20\n",
      "train loss:0.16895, valid loss:0.01480\n",
      "epoch 10 / 20\n",
      "train loss:0.16751, valid loss:0.01667\n",
      "epoch 11 / 20\n",
      "train loss:0.17909, valid loss:0.01335\n",
      "epoch 12 / 20\n",
      "train loss:0.16037, valid loss:0.01119\n",
      "epoch 13 / 20\n",
      "train loss:0.14980, valid loss:0.01219\n",
      "epoch 14 / 20\n",
      "train loss:0.12822, valid loss:0.00958\n",
      "epoch 15 / 20\n",
      "train loss:0.12843, valid loss:0.00793\n",
      "epoch 16 / 20\n",
      "train loss:0.13237, valid loss:0.00834\n",
      "epoch 17 / 20\n",
      "train loss:0.13965, valid loss:0.01125\n",
      "epoch 18 / 20\n",
      "train loss:0.12648, valid loss:0.00833\n",
      "epoch 19 / 20\n",
      "train loss:0.11202, valid loss:0.00744\n"
     ]
    }
   ],
   "source": [
    "EPOCHS = 20\n",
    "\n",
    "total_train_loss = []\n",
    "total_valid_loss = []\n",
    "\n",
    "for epoch in range(EPOCHS):\n",
    "    train_loss = []\n",
    "    valid_loss = []\n",
    "    \n",
    "    print(\"epoch {} / {}\".format(epoch, EPOCHS))\n",
    "    \n",
    "    for i, train_data in enumerate(train_iter):\n",
    "        \n",
    "        sents = train_data.word\n",
    "        tags = train_data.udtag\n",
    "                \n",
    "        _tr_loss = train(bilstm_crf, sents, tags)\n",
    "        _vl_loss = test(bilstm_crf, sents, tags)\n",
    "        \n",
    "        train_loss.append(_tr_loss)\n",
    "        valid_loss.append(_vl_loss)\n",
    "    \n",
    "    total_train_loss.append(np.mean(train_loss))\n",
    "    total_valid_loss.append(np.mean(valid_loss))\n",
    "    \n",
    "    print('train loss:{:.5f}, valid loss:{:.5f}'.format(total_train_loss[epoch],\n",
    "                                                        total_valid_loss[epoch]))\n",
    "    "
   ]
  },
  {
   "cell_type": "code",
   "execution_count": 23,
   "metadata": {},
   "outputs": [
    {
     "data": {
      "image/png": "[encoded data removed]",
      "text/plain": [
       "<Figure size 432x288 with 1 Axes>"
      ]
     },
     "metadata": {
      "needs_background": "light"
     },
     "output_type": "display_data"
    }
   ],
   "source": [
    "import matplotlib.pyplot as plt\n",
    "%matplotlib inline\n",
    "\n",
    "plt.plot(range(EPOCHS), total_train_loss, label=\"train loss\")\n",
    "plt.plot(range(EPOCHS), total_valid_loss, label=\"valid loss\")\n",
    "plt.legend()\n",
    "plt.show()"
   ]
  }
 ],
 "metadata": {
  "kernelspec": {
   "display_name": "Python 3",
   "language": "python",
   "name": "python3"
  },
  "language_info": {
   "codemirror_mode": {
    "name": "ipython",
    "version": 3
   },
   "file_extension": ".py",
   "mimetype": "text/x-python",
   "name": "python",
   "nbconvert_exporter": "python",
   "pygments_lexer": "ipython3",
   "version": "3.6.6"
  }
 },
 "nbformat": 4,
 "nbformat_minor": 2
}
